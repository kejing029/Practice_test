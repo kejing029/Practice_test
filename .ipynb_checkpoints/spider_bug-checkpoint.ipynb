{
 "cells": [
  {
   "cell_type": "code",
   "execution_count": 23,
   "metadata": {},
   "outputs": [],
   "source": [
    "from time import sleep\n",
    "from selenium import webdriver\n",
    "from selenium.common.exceptions import NoSuchElementException\n",
    "from selenium.webdriver.common.by import By\n",
    "# from PIL import Image\n",
    "from MyQR import myqr  \n",
    "import pandas as pd"
   ]
  },
  {
   "cell_type": "code",
   "execution_count": 61,
   "metadata": {
    "scrolled": true
   },
   "outputs": [
    {
     "name": "stdout",
     "output_type": "stream",
     "text": [
      "1dfb11990014d8XXXX\n",
      "line 16: mode: byte\n",
      "261f61e8000db1XXXX\n",
      "line 16: mode: byte\n"
     ]
    }
   ],
   "source": [
    "URL=\"https://www.cxstar.com\"\n",
    "driver = webdriver.Chrome()\n",
    "driver.implicitly_wait(5)\n",
    "driver.get(URL)\n",
    "df = pd.read_excel('book_list.xlsx',usecols=[0])#读取书名文件的第一列\n",
    "data=df.values.T.tolist()#不将其转置的话会导致每一个都是list，在后面无法进行循环，特别是在进行语句拼接的时候\n",
    "for key in data[0]:\n",
    "    driver.find_element_by_name(\"head$txttopsearch\").clear()\n",
    "    driver.find_element_by_name(\"head$txttopsearch\").send_keys(key)\n",
    "    sleep(1)\n",
    "    driver.find_element_by_id('head_imgbtntopsearch').click()\n",
    "    sleep(1)\n",
    "    s=\"//a[@title=\\\"\"+key+\"\\\"]\"\n",
    "    element=driver.find_element_by_xpath(s)\n",
    "    driver.get(element.get_attribute('href'))#跳转页面而不是打开新页面\n",
    "    down=driver.find_element_by_class_name(\"btn-down\")\n",
    "    print(down.get_attribute('data-id'))#得到书的id\n",
    "    str=\"https://www.cxstar.com/DetailQc?origintype=2&bookid=\"+down.get_attribute('data-id')#拼接链接\n",
    "    #注意大小写\n",
    "    myqr.run(words=str,save_name=key+\".png\")#将二维码保存为图书名字的png图片\n",
    "    sleep(2)\n",
    "# n = driver.window_handles # 获取当前页句柄   最初的想法是弄成截图，但是有问题\n",
    "# print (n)\n",
    "# driver.switch_to.window (n[1]) 前三行表示如果打开一个新页面如何将find的页面切换到最新的 \n",
    "# element=driver.find_element_by_tag_name('canvas')\n",
    "# print(element.location)                # 打印元素坐标\n",
    "# print(element.size)                    # 打印元素大小\n",
    "# left = element.location['x']\n",
    "# top = element.location['y']\n",
    "# right = element.location['x'] + element.size['width']\n",
    "# bottom = element.location['y'] + element.size['height']\n",
    "# im = Image.open('button.png')\n",
    "# im = im.crop((left, top, right, bottom))\n",
    "# im.save('button.png')\n",
    "\n"
   ]
  }
 ],
 "metadata": {
  "kernelspec": {
   "display_name": "Python 3",
   "language": "python",
   "name": "python3"
  },
  "language_info": {
   "codemirror_mode": {
    "name": "ipython",
    "version": 3
   },
   "file_extension": ".py",
   "mimetype": "text/x-python",
   "name": "python",
   "nbconvert_exporter": "python",
   "pygments_lexer": "ipython3",
   "version": "3.7.2"
  }
 },
 "nbformat": 4,
 "nbformat_minor": 2
}
